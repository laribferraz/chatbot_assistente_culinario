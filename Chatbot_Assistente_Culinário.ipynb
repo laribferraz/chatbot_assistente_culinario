{
  "nbformat": 4,
  "nbformat_minor": 0,
  "metadata": {
    "colab": {
      "provenance": [],
      "toc_visible": true,
      "authorship_tag": "ABX9TyNCgBkpT0cJx8GxeCOXq0Sr",
      "include_colab_link": true
    },
    "kernelspec": {
      "name": "python3",
      "display_name": "Python 3"
    },
    "language_info": {
      "name": "python"
    }
  },
  "cells": [
    {
      "cell_type": "markdown",
      "metadata": {
        "id": "view-in-github",
        "colab_type": "text"
      },
      "source": [
        "<a href=\"https://colab.research.google.com/github/laribferraz/chatbot_assistente_culinario/blob/main/Chatbot_Assistente_Culin%C3%A1rio.ipynb\" target=\"_parent\"><img src=\"https://colab.research.google.com/assets/colab-badge.svg\" alt=\"Open In Colab\"/></a>"
      ]
    },
    {
      "cell_type": "markdown",
      "source": [
        "1 - Instalação e Importações"
      ],
      "metadata": {
        "id": "0pglkR7DOgj_"
      }
    },
    {
      "cell_type": "code",
      "execution_count": 36,
      "metadata": {
        "colab": {
          "base_uri": "https://localhost:8080/"
        },
        "id": "JFqojHiZOfEf",
        "outputId": "e4b388d2-4abf-4752-ea69-aabdee99fde1"
      },
      "outputs": [
        {
          "output_type": "stream",
          "name": "stdout",
          "text": [
            "Requirement already satisfied: googletrans==4.0.0-rc1 in /usr/local/lib/python3.10/dist-packages (4.0.0rc1)\n",
            "Requirement already satisfied: httpx==0.13.3 in /usr/local/lib/python3.10/dist-packages (from googletrans==4.0.0-rc1) (0.13.3)\n",
            "Requirement already satisfied: certifi in /usr/local/lib/python3.10/dist-packages (from httpx==0.13.3->googletrans==4.0.0-rc1) (2024.2.2)\n",
            "Requirement already satisfied: hstspreload in /usr/local/lib/python3.10/dist-packages (from httpx==0.13.3->googletrans==4.0.0-rc1) (2024.5.1)\n",
            "Requirement already satisfied: sniffio in /usr/local/lib/python3.10/dist-packages (from httpx==0.13.3->googletrans==4.0.0-rc1) (1.3.1)\n",
            "Requirement already satisfied: chardet==3.* in /usr/local/lib/python3.10/dist-packages (from httpx==0.13.3->googletrans==4.0.0-rc1) (3.0.4)\n",
            "Requirement already satisfied: idna==2.* in /usr/local/lib/python3.10/dist-packages (from httpx==0.13.3->googletrans==4.0.0-rc1) (2.10)\n",
            "Requirement already satisfied: rfc3986<2,>=1.3 in /usr/local/lib/python3.10/dist-packages (from httpx==0.13.3->googletrans==4.0.0-rc1) (1.5.0)\n",
            "Requirement already satisfied: httpcore==0.9.* in /usr/local/lib/python3.10/dist-packages (from httpx==0.13.3->googletrans==4.0.0-rc1) (0.9.1)\n",
            "Requirement already satisfied: h11<0.10,>=0.8 in /usr/local/lib/python3.10/dist-packages (from httpcore==0.9.*->httpx==0.13.3->googletrans==4.0.0-rc1) (0.9.0)\n",
            "Requirement already satisfied: h2==3.* in /usr/local/lib/python3.10/dist-packages (from httpcore==0.9.*->httpx==0.13.3->googletrans==4.0.0-rc1) (3.2.0)\n",
            "Requirement already satisfied: hyperframe<6,>=5.2.0 in /usr/local/lib/python3.10/dist-packages (from h2==3.*->httpcore==0.9.*->httpx==0.13.3->googletrans==4.0.0-rc1) (5.2.0)\n",
            "Requirement already satisfied: hpack<4,>=3.0 in /usr/local/lib/python3.10/dist-packages (from h2==3.*->httpcore==0.9.*->httpx==0.13.3->googletrans==4.0.0-rc1) (3.0.0)\n",
            "Requirement already satisfied: langdetect in /usr/local/lib/python3.10/dist-packages (1.0.9)\n",
            "Requirement already satisfied: python-dotenv in /usr/local/lib/python3.10/dist-packages (1.0.1)\n",
            "Requirement already satisfied: six in /usr/local/lib/python3.10/dist-packages (from langdetect) (1.16.0)\n",
            "Requirement already satisfied: google-cloud-translate in /usr/local/lib/python3.10/dist-packages (3.11.3)\n",
            "Requirement already satisfied: google-api-core[grpc]!=2.0.*,!=2.1.*,!=2.10.*,!=2.2.*,!=2.3.*,!=2.4.*,!=2.5.*,!=2.6.*,!=2.7.*,!=2.8.*,!=2.9.*,<3.0.0dev,>=1.34.0 in /usr/local/lib/python3.10/dist-packages (from google-cloud-translate) (2.11.1)\n",
            "Requirement already satisfied: google-cloud-core<3.0.0dev,>=1.3.0 in /usr/local/lib/python3.10/dist-packages (from google-cloud-translate) (2.3.3)\n",
            "Requirement already satisfied: proto-plus<2.0.0dev,>=1.22.0 in /usr/local/lib/python3.10/dist-packages (from google-cloud-translate) (1.23.0)\n",
            "Requirement already satisfied: protobuf!=3.20.0,!=3.20.1,!=4.21.0,!=4.21.1,!=4.21.2,!=4.21.3,!=4.21.4,!=4.21.5,<5.0.0dev,>=3.19.5 in /usr/local/lib/python3.10/dist-packages (from google-cloud-translate) (3.20.3)\n",
            "Requirement already satisfied: googleapis-common-protos<2.0.dev0,>=1.56.2 in /usr/local/lib/python3.10/dist-packages (from google-api-core[grpc]!=2.0.*,!=2.1.*,!=2.10.*,!=2.2.*,!=2.3.*,!=2.4.*,!=2.5.*,!=2.6.*,!=2.7.*,!=2.8.*,!=2.9.*,<3.0.0dev,>=1.34.0->google-cloud-translate) (1.63.0)\n",
            "Requirement already satisfied: google-auth<3.0.dev0,>=2.14.1 in /usr/local/lib/python3.10/dist-packages (from google-api-core[grpc]!=2.0.*,!=2.1.*,!=2.10.*,!=2.2.*,!=2.3.*,!=2.4.*,!=2.5.*,!=2.6.*,!=2.7.*,!=2.8.*,!=2.9.*,<3.0.0dev,>=1.34.0->google-cloud-translate) (2.27.0)\n",
            "Requirement already satisfied: requests<3.0.0.dev0,>=2.18.0 in /usr/local/lib/python3.10/dist-packages (from google-api-core[grpc]!=2.0.*,!=2.1.*,!=2.10.*,!=2.2.*,!=2.3.*,!=2.4.*,!=2.5.*,!=2.6.*,!=2.7.*,!=2.8.*,!=2.9.*,<3.0.0dev,>=1.34.0->google-cloud-translate) (2.31.0)\n",
            "Requirement already satisfied: grpcio<2.0dev,>=1.33.2 in /usr/local/lib/python3.10/dist-packages (from google-api-core[grpc]!=2.0.*,!=2.1.*,!=2.10.*,!=2.2.*,!=2.3.*,!=2.4.*,!=2.5.*,!=2.6.*,!=2.7.*,!=2.8.*,!=2.9.*,<3.0.0dev,>=1.34.0->google-cloud-translate) (1.63.0)\n",
            "Requirement already satisfied: grpcio-status<2.0.dev0,>=1.33.2 in /usr/local/lib/python3.10/dist-packages (from google-api-core[grpc]!=2.0.*,!=2.1.*,!=2.10.*,!=2.2.*,!=2.3.*,!=2.4.*,!=2.5.*,!=2.6.*,!=2.7.*,!=2.8.*,!=2.9.*,<3.0.0dev,>=1.34.0->google-cloud-translate) (1.48.2)\n",
            "Requirement already satisfied: cachetools<6.0,>=2.0.0 in /usr/local/lib/python3.10/dist-packages (from google-auth<3.0.dev0,>=2.14.1->google-api-core[grpc]!=2.0.*,!=2.1.*,!=2.10.*,!=2.2.*,!=2.3.*,!=2.4.*,!=2.5.*,!=2.6.*,!=2.7.*,!=2.8.*,!=2.9.*,<3.0.0dev,>=1.34.0->google-cloud-translate) (5.3.3)\n",
            "Requirement already satisfied: pyasn1-modules>=0.2.1 in /usr/local/lib/python3.10/dist-packages (from google-auth<3.0.dev0,>=2.14.1->google-api-core[grpc]!=2.0.*,!=2.1.*,!=2.10.*,!=2.2.*,!=2.3.*,!=2.4.*,!=2.5.*,!=2.6.*,!=2.7.*,!=2.8.*,!=2.9.*,<3.0.0dev,>=1.34.0->google-cloud-translate) (0.4.0)\n",
            "Requirement already satisfied: rsa<5,>=3.1.4 in /usr/local/lib/python3.10/dist-packages (from google-auth<3.0.dev0,>=2.14.1->google-api-core[grpc]!=2.0.*,!=2.1.*,!=2.10.*,!=2.2.*,!=2.3.*,!=2.4.*,!=2.5.*,!=2.6.*,!=2.7.*,!=2.8.*,!=2.9.*,<3.0.0dev,>=1.34.0->google-cloud-translate) (4.9)\n",
            "Requirement already satisfied: charset-normalizer<4,>=2 in /usr/local/lib/python3.10/dist-packages (from requests<3.0.0.dev0,>=2.18.0->google-api-core[grpc]!=2.0.*,!=2.1.*,!=2.10.*,!=2.2.*,!=2.3.*,!=2.4.*,!=2.5.*,!=2.6.*,!=2.7.*,!=2.8.*,!=2.9.*,<3.0.0dev,>=1.34.0->google-cloud-translate) (3.3.2)\n",
            "Requirement already satisfied: idna<4,>=2.5 in /usr/local/lib/python3.10/dist-packages (from requests<3.0.0.dev0,>=2.18.0->google-api-core[grpc]!=2.0.*,!=2.1.*,!=2.10.*,!=2.2.*,!=2.3.*,!=2.4.*,!=2.5.*,!=2.6.*,!=2.7.*,!=2.8.*,!=2.9.*,<3.0.0dev,>=1.34.0->google-cloud-translate) (2.10)\n",
            "Requirement already satisfied: urllib3<3,>=1.21.1 in /usr/local/lib/python3.10/dist-packages (from requests<3.0.0.dev0,>=2.18.0->google-api-core[grpc]!=2.0.*,!=2.1.*,!=2.10.*,!=2.2.*,!=2.3.*,!=2.4.*,!=2.5.*,!=2.6.*,!=2.7.*,!=2.8.*,!=2.9.*,<3.0.0dev,>=1.34.0->google-cloud-translate) (2.0.7)\n",
            "Requirement already satisfied: certifi>=2017.4.17 in /usr/local/lib/python3.10/dist-packages (from requests<3.0.0.dev0,>=2.18.0->google-api-core[grpc]!=2.0.*,!=2.1.*,!=2.10.*,!=2.2.*,!=2.3.*,!=2.4.*,!=2.5.*,!=2.6.*,!=2.7.*,!=2.8.*,!=2.9.*,<3.0.0dev,>=1.34.0->google-cloud-translate) (2024.2.2)\n",
            "Requirement already satisfied: pyasn1<0.7.0,>=0.4.6 in /usr/local/lib/python3.10/dist-packages (from pyasn1-modules>=0.2.1->google-auth<3.0.dev0,>=2.14.1->google-api-core[grpc]!=2.0.*,!=2.1.*,!=2.10.*,!=2.2.*,!=2.3.*,!=2.4.*,!=2.5.*,!=2.6.*,!=2.7.*,!=2.8.*,!=2.9.*,<3.0.0dev,>=1.34.0->google-cloud-translate) (0.6.0)\n",
            "Requirement already satisfied: google-generativeai in /usr/local/lib/python3.10/dist-packages (0.5.3)\n",
            "Requirement already satisfied: google-ai-generativelanguage==0.6.3 in /usr/local/lib/python3.10/dist-packages (from google-generativeai) (0.6.3)\n",
            "Requirement already satisfied: google-api-core in /usr/local/lib/python3.10/dist-packages (from google-generativeai) (2.11.1)\n",
            "Requirement already satisfied: google-api-python-client in /usr/local/lib/python3.10/dist-packages (from google-generativeai) (2.84.0)\n",
            "Requirement already satisfied: google-auth>=2.15.0 in /usr/local/lib/python3.10/dist-packages (from google-generativeai) (2.27.0)\n",
            "Requirement already satisfied: protobuf in /usr/local/lib/python3.10/dist-packages (from google-generativeai) (3.20.3)\n",
            "Requirement already satisfied: pydantic in /usr/local/lib/python3.10/dist-packages (from google-generativeai) (2.7.1)\n",
            "Requirement already satisfied: tqdm in /usr/local/lib/python3.10/dist-packages (from google-generativeai) (4.66.4)\n",
            "Requirement already satisfied: typing-extensions in /usr/local/lib/python3.10/dist-packages (from google-generativeai) (4.11.0)\n",
            "Requirement already satisfied: proto-plus<2.0.0dev,>=1.22.3 in /usr/local/lib/python3.10/dist-packages (from google-ai-generativelanguage==0.6.3->google-generativeai) (1.23.0)\n",
            "Requirement already satisfied: cachetools<6.0,>=2.0.0 in /usr/local/lib/python3.10/dist-packages (from google-auth>=2.15.0->google-generativeai) (5.3.3)\n",
            "Requirement already satisfied: pyasn1-modules>=0.2.1 in /usr/local/lib/python3.10/dist-packages (from google-auth>=2.15.0->google-generativeai) (0.4.0)\n",
            "Requirement already satisfied: rsa<5,>=3.1.4 in /usr/local/lib/python3.10/dist-packages (from google-auth>=2.15.0->google-generativeai) (4.9)\n",
            "Requirement already satisfied: googleapis-common-protos<2.0.dev0,>=1.56.2 in /usr/local/lib/python3.10/dist-packages (from google-api-core->google-generativeai) (1.63.0)\n",
            "Requirement already satisfied: requests<3.0.0.dev0,>=2.18.0 in /usr/local/lib/python3.10/dist-packages (from google-api-core->google-generativeai) (2.31.0)\n",
            "Requirement already satisfied: httplib2<1dev,>=0.15.0 in /usr/local/lib/python3.10/dist-packages (from google-api-python-client->google-generativeai) (0.22.0)\n",
            "Requirement already satisfied: google-auth-httplib2>=0.1.0 in /usr/local/lib/python3.10/dist-packages (from google-api-python-client->google-generativeai) (0.1.1)\n",
            "Requirement already satisfied: uritemplate<5,>=3.0.1 in /usr/local/lib/python3.10/dist-packages (from google-api-python-client->google-generativeai) (4.1.1)\n",
            "Requirement already satisfied: annotated-types>=0.4.0 in /usr/local/lib/python3.10/dist-packages (from pydantic->google-generativeai) (0.6.0)\n",
            "Requirement already satisfied: pydantic-core==2.18.2 in /usr/local/lib/python3.10/dist-packages (from pydantic->google-generativeai) (2.18.2)\n",
            "Requirement already satisfied: grpcio<2.0dev,>=1.33.2 in /usr/local/lib/python3.10/dist-packages (from google-api-core->google-generativeai) (1.63.0)\n",
            "Requirement already satisfied: grpcio-status<2.0.dev0,>=1.33.2 in /usr/local/lib/python3.10/dist-packages (from google-api-core->google-generativeai) (1.48.2)\n",
            "Requirement already satisfied: pyparsing!=3.0.0,!=3.0.1,!=3.0.2,!=3.0.3,<4,>=2.4.2 in /usr/local/lib/python3.10/dist-packages (from httplib2<1dev,>=0.15.0->google-api-python-client->google-generativeai) (3.1.2)\n",
            "Requirement already satisfied: pyasn1<0.7.0,>=0.4.6 in /usr/local/lib/python3.10/dist-packages (from pyasn1-modules>=0.2.1->google-auth>=2.15.0->google-generativeai) (0.6.0)\n",
            "Requirement already satisfied: charset-normalizer<4,>=2 in /usr/local/lib/python3.10/dist-packages (from requests<3.0.0.dev0,>=2.18.0->google-api-core->google-generativeai) (3.3.2)\n",
            "Requirement already satisfied: idna<4,>=2.5 in /usr/local/lib/python3.10/dist-packages (from requests<3.0.0.dev0,>=2.18.0->google-api-core->google-generativeai) (2.10)\n",
            "Requirement already satisfied: urllib3<3,>=1.21.1 in /usr/local/lib/python3.10/dist-packages (from requests<3.0.0.dev0,>=2.18.0->google-api-core->google-generativeai) (2.0.7)\n",
            "Requirement already satisfied: certifi>=2017.4.17 in /usr/local/lib/python3.10/dist-packages (from requests<3.0.0.dev0,>=2.18.0->google-api-core->google-generativeai) (2024.2.2)\n",
            "Requirement already satisfied: python-dotenv in /usr/local/lib/python3.10/dist-packages (1.0.1)\n"
          ]
        },
        {
          "output_type": "execute_result",
          "data": {
            "text/plain": [
              "False"
            ]
          },
          "metadata": {},
          "execution_count": 36
        }
      ],
      "source": [
        "!pip install -q -U google-generativeai requests\n",
        "!pip install googletrans==4.0.0-rc1\n",
        "!pip install langdetect python-dotenv\n",
        "!pip install google-cloud-translate\n",
        "!pip install --upgrade google-generativeai\n",
        "!pip install python-dotenv\n",
        "\n",
        "import os\n",
        "import json\n",
        "import random\n",
        "import requests\n",
        "from typing import List\n",
        "import time\n",
        "\n",
        "import google.generativeai as genai\n",
        "from googletrans import Translator\n",
        "from langdetect import detect\n",
        "from dotenv import load_dotenv\n",
        "from google.cloud import translate_v3beta1 as translate\n",
        "\n",
        "# Carregar variáveis de ambiente do arquivo .env\n",
        "load_dotenv()\n"
      ]
    },
    {
      "cell_type": "markdown",
      "source": [
        "2 - Configurações"
      ],
      "metadata": {
        "id": "ZbWQdhg3OuTc"
      }
    },
    {
      "cell_type": "code",
      "source": [
        "# Configurações\n",
        "GOOGLE_API_KEY = os.getenv(\"GOOGLE_API_KEY\")\n",
        "genai.configure(api_key=GOOGLE_API_KEY)\n",
        "\n",
        "generation_config = {\n",
        "    \"candidate_count\": 1,\n",
        "    \"temperature\": 0.7,\n",
        "}\n",
        "\n",
        "model = genai.GenerativeModel(\n",
        "    model_name='gemini-pro',\n",
        "    generation_config=generation_config,\n",
        ")\n",
        "\n",
        "chat = model.start_chat()\n",
        "\n",
        "EDAMAM_APP_ID = os.getenv(\"EDAMAM_APP_ID\")\n",
        "EDAMAM_APP_KEY = os.getenv(\"EDAMAM_APP_KEY\")\n",
        "\n",
        "translator = Translator()\n",
        "translate_client = translate.TranslationServiceClient()"
      ],
      "metadata": {
        "id": "ORoEk6KzOv1i"
      },
      "execution_count": 37,
      "outputs": []
    },
    {
      "cell_type": "markdown",
      "source": [
        "3 - Funções Auxiliares"
      ],
      "metadata": {
        "id": "CjLBCtlKPU9N"
      }
    },
    {
      "cell_type": "code",
      "source": [
        "def buscar_receita(ingredientes: str, restricoes: str = \"\") -> dict:\n",
        "    url = f\"https://api.edamam.com/search?q={ingredientes}&app_id={EDAMAM_APP_ID}&app_key={EDAMAM_APP_KEY}&from=0&to=3{restricoes}\"\n",
        "    response = requests.get(url)\n",
        "    data = response.json()\n",
        "    return data['hits'][0]['recipe'] if 'hits' in data and data['hits'] else None\n",
        "\n",
        "\n",
        "def formatar_receita(receita: dict, porcoes: int = None) -> str:\n",
        "    if not receita:\n",
        "        return \"Desculpe, não encontrei nenhuma receita com esses ingredientes.\"\n",
        "\n",
        "    if porcoes:\n",
        "        receita_ajustada = {\n",
        "            \"label\": receita['label'],\n",
        "            \"ingredientLines\": [f\"{i} (ajuste para {porcoes} porções)\" for i in receita['ingredientLines']],\n",
        "            \"url\": receita['url'],\n",
        "            \"calories\": receita.get('calories', 'N/A')\n",
        "        }\n",
        "        return f\"\"\"## {receita_ajustada['label']} (para {porcoes} porções)\n",
        "\n",
        "**Ingredientes:**\n",
        "{', '.join(receita_ajustada['ingredientLines'])}\n",
        "\n",
        "**Instruções:**\n",
        "Para as instruções completas, acesse: {receita_ajustada['url']}\n",
        "\n",
        "**Informações Nutricionais:**\n",
        "{receita_ajustada.get('calories', 'N/A')} calorias (aproximado)\n",
        "\"\"\"\n",
        "\n",
        "    return f\"\"\"## {receita['label']}\n",
        "\n",
        "**Ingredientes:**\n",
        "{', '.join(receita['ingredientLines'])}\n",
        "\n",
        "**Instruções:**\n",
        "Para as instruções completas, acesse: {receita['url']}\n",
        "\n",
        "**Informações Nutricionais:**\n",
        "{receita.get('calories', 'N/A')} calorias\n",
        "\"\"\"\n",
        "\n",
        "\n",
        "def gerar_piada_culinaria() -> str:\n",
        "    piadas = [\n",
        "        \"Por que o tomate foi ao banco? Para pegar extrato de tomate!\",\n",
        "        \"Qual a fruta que os fantasmas mais gostam? Morango!\",\n",
        "        \"Qual é o legume que gosta de música? A beterraba!\"\n",
        "    ]\n",
        "    return random.choice(piadas)\n",
        "\n",
        "\n",
        "# --- Funções para Tradução e Processamento de Prompt ---\n",
        "\n",
        "def detectar_idioma(texto: str) -> str:\n",
        "    return detect(texto)\n",
        "\n",
        "\n",
        "def traduzir_texto(texto: str, idioma_destino: str = 'en') -> str:\n",
        "    response = translate_client.translate_text(\n",
        "        request={\n",
        "            \"parent\": f\"projects/your-project-id/locations/global\",  # Substitua pelo seu ID de projeto\n",
        "            \"contents\": [texto],\n",
        "            \"mime_type\": \"text/plain\",\n",
        "            \"target_language_code\": idioma_destino\n",
        "        }\n",
        "    )\n",
        "    return response.translations[0].translated_text\n",
        "\n",
        "def processar_prompt(prompt: str, receita_atual: dict = None) -> str:\n",
        "    idioma = detectar_idioma(prompt)\n",
        "    if idioma != 'en':\n",
        "        prompt = traduzir_texto(prompt, 'en')\n",
        "\n",
        "    if receita_atual:\n",
        "        try:\n",
        "            prompt = f\"Contexto da receita:\\n{json.dumps(receita_atual)}\\n\\nPrompt do usuário:\\n{prompt}\"\n",
        "        except TypeError:\n",
        "            print(\"Aviso: Erro ao serializar receita_atual em JSON.\")\n",
        "\n",
        "    return prompt, idioma\n",
        "\n",
        "\n",
        "# --- Função para Simular Streaming ---\n",
        "\n",
        "def print_streaming_response(response: str) -> None: # Recebe a resposta completa como string\n",
        "    words = response.split() # Divide a resposta em palavras\n",
        "    for word in words:\n",
        "        print(word, end=\" \", flush=True)\n",
        "        time.sleep(0.05) # Pausa para simular o streaming\n",
        "    print()"
      ],
      "metadata": {
        "id": "U9DnLZZgPWj2"
      },
      "execution_count": 34,
      "outputs": []
    },
    {
      "cell_type": "markdown",
      "source": [
        "4 - Variáveis de Contexto e Inicialização"
      ],
      "metadata": {
        "id": "N5YCYkf0PbzG"
      }
    },
    {
      "cell_type": "code",
      "source": [
        "restricoes = \"\"\n",
        "receita_atual = None\n",
        "lista_compras: List[str] = []\n",
        "historico_conversa: List[str] = []\n",
        "\n",
        "print(\"Olá! Sou seu assistente de culinária. O que você gostaria de cozinhar hoje?\")"
      ],
      "metadata": {
        "colab": {
          "base_uri": "https://localhost:8080/"
        },
        "id": "IMxfUZyNPgUO",
        "outputId": "02d3d248-7c73-4181-8eef-7d105af2556c"
      },
      "execution_count": 22,
      "outputs": [
        {
          "output_type": "stream",
          "name": "stdout",
          "text": [
            "Olá! Sou seu assistente de culinária. O que você gostaria de cozinhar hoje?\n"
          ]
        }
      ]
    },
    {
      "cell_type": "markdown",
      "source": [
        "5 - Loop Principal do Chatbot"
      ],
      "metadata": {
        "id": "rgFQgaK5PlD6"
      }
    },
    {
      "cell_type": "code",
      "source": [
        "while True:\n",
        "    print(\"\\nPara começar, escolha uma opção:\")\n",
        "    print(\"1. Encontrar uma receita\")\n",
        "    print(\"2. Adicionar item na lista de compras\")\n",
        "    print(\"3. Mostrar minha lista de compras\")\n",
        "    print(\"4. Contar uma piada culinária\")\n",
        "    print(\"5. Sair\")\n",
        "\n",
        "    opcao = input(\"Digite o número da opção desejada: \")\n",
        "\n",
        "    if opcao == '1':\n",
        "        prompt = input(\"Descreva a receita que você deseja encontrar: \")\n",
        "        if \"want to make\" in prompt.lower() or \"recipe with\" in prompt.lower():\n",
        "            comando = prompt.lower().split(\" \")\n",
        "            ingredientes = comando[comando.index(\"with\")+1:]\n",
        "            porcoes = int(comando[comando.index(\"for\") + 1]) if \"for\" in comando else None\n",
        "            restricoes = f\"&health={prompt.lower().split('without')[1].strip()}\" if \"without\" in prompt.lower() else \"\"\n",
        "            receita_atual = buscar_receita(ingredientes, restricoes)\n",
        "            resposta = formatar_receita(receita_atual, porcoes)\n",
        "            print(resposta)\n",
        "\n",
        "    elif opcao == '2':\n",
        "        prompt = input(\"Digite o item que deseja adicionar na lista de compras: \")\n",
        "        if \"adicionar\" in prompt.lower() and \"lista de compras\" in prompt.lower():\n",
        "            item = prompt.lower().split(\"adicionar\")[1].split(\"na lista de compras\")[0].strip()\n",
        "            lista_compras.append(item)\n",
        "            print(f\"{item} adicionado à lista de compras!\")\n",
        "\n",
        "    elif opcao == '3':\n",
        "        if lista_compras:\n",
        "            print(\"Sua lista de compras:\")\n",
        "            for item in lista_compras:\n",
        "                print(f\"- {item}\")\n",
        "        else:\n",
        "            print(\"Sua lista de compras está vazia!\")\n",
        "\n",
        "    elif opcao == '4':\n",
        "        print(gerar_piada_culinaria())\n",
        "\n",
        "    elif opcao == '5':\n",
        "        print(\"Bom apetite! Até a próxima.\")\n",
        "        break\n",
        "\n",
        "    else:\n",
        "        print(\"Opção inválida. Tente novamente.\")\n",
        "        continue\n",
        "\n",
        "    # --- Interação com o Gemini ---\n",
        "\n",
        "    if opcao in ('1', '2', '3', '4'):\n",
        "        prompt, idioma = processar_prompt(prompt, receita_atual)\n",
        "\n",
        "        # Simulação de Streaming\n",
        "        response = chat.send_message(prompt)\n",
        "        print_streaming_response(response.text) # Passa o texto completo para a função\n",
        "\n",
        "        if idioma != 'en':\n",
        "            texto_traduzido = traduzir_texto(response.text, idioma) # Traduz a resposta completa\n",
        "            print(texto_traduzido)\n",
        "\n",
        "print(\"Bom apetite! Até a próxima.\")"
      ],
      "metadata": {
        "colab": {
          "base_uri": "https://localhost:8080/"
        },
        "id": "fYsERseEPmsQ",
        "outputId": "2c0aa782-4131-4cdd-e034-ed997f1735c1"
      },
      "execution_count": null,
      "outputs": [
        {
          "output_type": "stream",
          "name": "stdout",
          "text": [
            "\n",
            "Para começar, escolha uma opção:\n",
            "1. Encontrar uma receita\n",
            "2. Adicionar item na lista de compras\n",
            "3. Mostrar minha lista de compras\n",
            "4. Contar uma piada culinária\n",
            "5. Sair\n"
          ]
        }
      ]
    }
  ]
}